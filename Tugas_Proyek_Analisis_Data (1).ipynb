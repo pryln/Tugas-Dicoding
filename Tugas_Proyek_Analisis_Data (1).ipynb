{
  "cells": [
    {
      "cell_type": "markdown",
      "metadata": {
        "id": "H9wADwK78DCz"
      },
      "source": [
        "# Proyek Analisis Data: Bike Sharing\n",
        "- **Nama:** Shinta Praylina\n",
        "- **Email:** shintapraylina007@gmail.com\n",
        "- **ID Dicoding:** shinta_praylina_t3lo"
      ]
    },
    {
      "cell_type": "markdown",
      "metadata": {
        "id": "eE0raob58DC0"
      },
      "source": [
        "## Menentukan Pertanyaan Bisnis"
      ]
    },
    {
      "cell_type": "markdown",
      "metadata": {
        "id": "GmQeQ5YF8DC0"
      },
      "source": [
        "- What season do most and least people rent bicycles?\n",
        "\n",
        "\n",
        "- Is there a difference in the number of bicycle renters each month?"
      ]
    },
    {
      "cell_type": "markdown",
      "metadata": {
        "id": "H-z4QGlO8DC1"
      },
      "source": [
        "## Import Semua Packages/Library yang Digunakan"
      ]
    },
    {
      "cell_type": "code",
      "execution_count": 5,
      "metadata": {
        "id": "FVYwaObI8DC1"
      },
      "outputs": [
        {
          "ename": "ModuleNotFoundError",
          "evalue": "No module named 'google.colab'",
          "output_type": "error",
          "traceback": [
            "\u001b[1;31m---------------------------------------------------------------------------\u001b[0m",
            "\u001b[1;31mModuleNotFoundError\u001b[0m                       Traceback (most recent call last)",
            "Cell \u001b[1;32mIn[5], line 6\u001b[0m\n\u001b[0;32m      4\u001b[0m \u001b[38;5;28;01mimport\u001b[39;00m \u001b[38;5;21;01mseaborn\u001b[39;00m \u001b[38;5;28;01mas\u001b[39;00m \u001b[38;5;21;01msns\u001b[39;00m\n\u001b[0;32m      5\u001b[0m \u001b[38;5;28;01mimport\u001b[39;00m \u001b[38;5;21;01mdatetime\u001b[39;00m\n\u001b[1;32m----> 6\u001b[0m \u001b[38;5;28;01mfrom\u001b[39;00m \u001b[38;5;21;01mgoogle\u001b[39;00m\u001b[38;5;21;01m.\u001b[39;00m\u001b[38;5;21;01mcolab\u001b[39;00m \u001b[38;5;28;01mimport\u001b[39;00m drive\n\u001b[0;32m      9\u001b[0m \u001b[38;5;66;03m# sns.set(style=\"whitegrid\")\u001b[39;00m\n",
            "\u001b[1;31mModuleNotFoundError\u001b[0m: No module named 'google.colab'"
          ]
        }
      ],
      "source": [
        "\n",
        "import pandas as pd\n",
        "import numpy as np\n",
        "import matplotlib.pyplot as plt\n",
        "import seaborn as sns\n",
        "import datetime\n",
        "from google.colab import drive\n",
        "\n",
        "\n",
        "# sns.set(style=\"whitegrid\")\n"
      ]
    },
    {
      "cell_type": "markdown",
      "metadata": {
        "id": "h_Sh51Xy8DC1"
      },
      "source": [
        "## Data Wrangling"
      ]
    },
    {
      "cell_type": "markdown",
      "metadata": {
        "id": "sXU2GBYu8DC1"
      },
      "source": [
        "### Gathering Data"
      ]
    },
    {
      "cell_type": "code",
      "execution_count": null,
      "metadata": {
        "colab": {
          "base_uri": "https://localhost:8080/"
        },
        "id": "zjCBk1BI8DC1",
        "outputId": "fa8a48cc-c8b8-4f45-f7d5-3951e69f87a0"
      },
      "outputs": [],
      "source": [
        "drive.mount('/content/drive')\n",
        "phatData=\"/content/drive/MyDrive/day.csv\"\n",
        "df = pd.read_csv(phatData)\n",
        "df.info()\n",
        "print(df.head())\n"
      ]
    },
    {
      "cell_type": "markdown",
      "metadata": {
        "id": "MMi6xGaDkbCi"
      },
      "source": [
        "**Insight:**\n",
        "\n",
        "Bagian menampilkan data info dari data set yang tersedia"
      ]
    },
    {
      "cell_type": "markdown",
      "metadata": {
        "id": "FHSiqaZp8DC1"
      },
      "source": [
        "### Assessing Data"
      ]
    },
    {
      "cell_type": "code",
      "execution_count": null,
      "metadata": {
        "colab": {
          "base_uri": "https://localhost:8080/",
          "height": 1000
        },
        "id": "ax-3tEjc9Cj1",
        "outputId": "693e79f0-45ef-4955-c555-c4cab9751dd4"
      },
      "outputs": [],
      "source": [
        "missing_val = df.isnull().sum()\n",
        "print(\"Jumlah nilai yang hilang dalam setiap kolom:\")\n",
        "print(missing_val)\n",
        "\n",
        "# Data duplikat\n",
        "duplicate_data = df.duplicated().sum()\n",
        "print(\"Jumlah nilai yang duplikat:\")\n",
        "print(duplicate_data)\n",
        "\n",
        "num_cols = ['temp', 'atemp', 'hum', 'windspeed', 'casual', 'registered', 'cnt']\n",
        "\n",
        "# Korelasi data\n",
        "corr_matrix = df[num_cols].corr()\n",
        "plt.figure(figsize=(10, 8))\n",
        "sns.heatmap(corr_matrix, annot=True, cmap='coolwarm', fmt=\".2f\")\n",
        "plt.title('Correlation Matrix')\n",
        "plt.show()\n",
        "\n",
        "# Outlier data\n",
        "plt.figure(figsize=(12, 10))\n",
        "for i, col in enumerate(num_cols, 1):\n",
        "    plt.subplot(4, 2, i)\n",
        "    sns.boxplot(x=df[col])\n",
        "    plt.title(f'Boxplot {col}')\n",
        "plt.tight_layout()\n",
        "plt.show()"
      ]
    },
    {
      "cell_type": "markdown",
      "metadata": {
        "id": "7dtxhAPrkhPL"
      },
      "source": [
        "**Insight:**\n",
        "\n",
        "Bagian ini memeriksa dan menampilkan jumlah data duplikat, jumlah data yang hilang, korelasi antar variabel, dan outlier pada setiap variabel."
      ]
    },
    {
      "cell_type": "markdown",
      "metadata": {
        "id": "EhN5R4hr8DC1"
      },
      "source": [
        "### Cleaning Data"
      ]
    },
    {
      "cell_type": "code",
      "execution_count": 19,
      "metadata": {
        "id": "jVnYpprE9Evz"
      },
      "outputs": [],
      "source": [
        "# Hapus data row yang data nya hilang\n",
        "df_no_missing = df.dropna()\n",
        "# Menghapus duplikasi jika ada\n",
        "df_cleaned = df_no_missing.drop_duplicates()"
      ]
    },
    {
      "cell_type": "markdown",
      "metadata": {
        "id": "Q_5ejIqckiSP"
      },
      "source": [
        "**Insight:**\n",
        "\n",
        "Tahap cleaning data ini sepertinya kurang diperlukan karena dataset yang digunakan sudah cukup bersih dan tidak memiliki data yang hilang atau duplikat."
      ]
    },
    {
      "cell_type": "markdown",
      "metadata": {
        "id": "gp-Y6wU38DC1"
      },
      "source": [
        "## Exploratory Data Analysis (EDA)"
      ]
    },
    {
      "cell_type": "markdown",
      "metadata": {
        "id": "MW7WF2kr8DC1"
      },
      "source": [
        "### Explore ..."
      ]
    },
    {
      "cell_type": "code",
      "execution_count": 6,
      "metadata": {
        "colab": {
          "base_uri": "https://localhost:8080/",
          "height": 0
        },
        "id": "e9CQCZjk8DC2",
        "outputId": "b85c716b-bd8b-4340-e96f-dcbab2a4c862"
      },
      "outputs": [
        {
          "ename": "NameError",
          "evalue": "name 'df' is not defined",
          "output_type": "error",
          "traceback": [
            "\u001b[1;31m---------------------------------------------------------------------------\u001b[0m",
            "\u001b[1;31mNameError\u001b[0m                                 Traceback (most recent call last)",
            "Cell \u001b[1;32mIn[6], line 2\u001b[0m\n\u001b[0;32m      1\u001b[0m \u001b[38;5;66;03m# Hitung jumlah total penyewaan berdasarkan musim\u001b[39;00m\n\u001b[1;32m----> 2\u001b[0m seasonal_rental_data \u001b[38;5;241m=\u001b[39m \u001b[43mdf\u001b[49m\u001b[38;5;241m.\u001b[39mgroupby(\u001b[38;5;124m'\u001b[39m\u001b[38;5;124mseason\u001b[39m\u001b[38;5;124m'\u001b[39m)[\u001b[38;5;124m'\u001b[39m\u001b[38;5;124mcnt\u001b[39m\u001b[38;5;124m'\u001b[39m]\u001b[38;5;241m.\u001b[39msum()\u001b[38;5;241m.\u001b[39mreset_index()\n\u001b[0;32m      4\u001b[0m \u001b[38;5;66;03m# Tentukan dictionary untuk map season numbers ke label yang sesuai\u001b[39;00m\n\u001b[0;32m      5\u001b[0m season_mapping \u001b[38;5;241m=\u001b[39m {\u001b[38;5;241m1\u001b[39m: \u001b[38;5;124m'\u001b[39m\u001b[38;5;124mWinter\u001b[39m\u001b[38;5;124m'\u001b[39m, \u001b[38;5;241m2\u001b[39m: \u001b[38;5;124m'\u001b[39m\u001b[38;5;124mSpring\u001b[39m\u001b[38;5;124m'\u001b[39m, \u001b[38;5;241m3\u001b[39m: \u001b[38;5;124m'\u001b[39m\u001b[38;5;124mSummer\u001b[39m\u001b[38;5;124m'\u001b[39m, \u001b[38;5;241m4\u001b[39m: \u001b[38;5;124m'\u001b[39m\u001b[38;5;124mAutumn\u001b[39m\u001b[38;5;124m'\u001b[39m}\n",
            "\u001b[1;31mNameError\u001b[0m: name 'df' is not defined"
          ]
        }
      ],
      "source": [
        "# Hitung jumlah total penyewaan berdasarkan musim\n",
        "seasonal_rental_data = df.groupby('season')['cnt'].sum().reset_index()\n",
        "\n",
        "# Tentukan dictionary untuk map season numbers ke label yang sesuai\n",
        "season_mapping = {1: 'Winter', 2: 'Spring', 3: 'Summer', 4: 'Autumn'}\n",
        "seasonal_rental_data['season'] = seasonal_rental_data['season'].map(season_mapping)\n",
        "\n",
        "# Temukan musim dengan penyewaan terbanyak dan paling sedikit\n",
        "peak_season = seasonal_rental_data.loc[seasonal_rental_data['cnt'].idxmax()]\n",
        "off_peak_season = seasonal_rental_data.loc[seasonal_rental_data['cnt'].idxmin()]\n",
        "\n",
        "# Membuat bar plot untuk visualisasi data nya\n",
        "plt.figure(figsize=(8, 6))\n",
        "sns.barplot(data=seasonal_rental_data, x='season', y='cnt', palette='viridis')\n",
        "\n",
        "# Menambahkan anotasi untuk peak and off-peak seasons\n",
        "plt.annotate(f\"Peak season: {peak_season['cnt']}\", xy=(peak_season['season'], peak_season['cnt']), xytext=(0, 10), textcoords='offset points', ha='center', arrowprops=dict(arrowstyle=\"->\"))\n",
        "plt.annotate(f\"Off-peak season: {off_peak_season['cnt']}\", xy=(off_peak_season['season'], off_peak_season['cnt']), xytext=(0, -10), textcoords='offset points', ha='center', arrowprops=dict(arrowstyle=\"->\"))\n",
        "\n",
        "plt.title('Bike Rental Patterns by Season')\n",
        "plt.xlabel('Time of Year')\n",
        "plt.ylabel('Rental Volume')\n",
        "plt.xticks(rotation=45)\n",
        "plt.show()"
      ]
    },
    {
      "cell_type": "markdown",
      "metadata": {
        "id": "th_Lzl2Fkj9O"
      },
      "source": [
        "**Insight:**\n",
        "disiini saya menampilkan descrip dari dataset dan juga data penyewa berdasarkan musim disini terlihat musim panas paling tinggi"
      ]
    },
    {
      "cell_type": "markdown",
      "metadata": {
        "id": "zsyZjqak8DC2"
      },
      "source": [
        "## Visualization & Explanatory Analysis"
      ]
    },
    {
      "cell_type": "markdown",
      "metadata": {
        "id": "HZxOiQ6n8DC2"
      },
      "source": [
        "### What season do most and least people rent bicycles?"
      ]
    },
    {
      "cell_type": "code",
      "execution_count": null,
      "metadata": {
        "colab": {
          "base_uri": "https://localhost:8080/",
          "height": 1000
        },
        "id": "1swJUdAD8DC2",
        "outputId": "60f654f9-b206-4af1-ccd8-78a143e208e4"
      },
      "outputs": [],
      "source": [
        "\n",
        "# Hitung jumlah total penyewaan berdasarkan musim\n",
        "seasonal_rental_data = df.groupby('season')['cnt'].sum().reset_index()\n",
        "\n",
        "# Tentukan dictionary untuk map season numbers ke label yang sesuai\n",
        "season_mapping = {1: 'Winter', 2: 'Spring', 3: 'Summer', 4: 'Autumn'}\n",
        "seasonal_rental_data['season'] = seasonal_rental_data['season'].map(season_mapping)\n",
        "\n",
        "# Temukan musim dengan penyewaan terbanyak dan paling sedikit\n",
        "peak_season = seasonal_rental_data.loc[seasonal_rental_data['cnt'].idxmax()]\n",
        "off_peak_season = seasonal_rental_data.loc[seasonal_rental_data['cnt'].idxmin()]\n",
        "\n",
        "# Membuat bar plot untuk visualisasi data nya\n",
        "plt.figure(figsize=(10, 8))\n",
        "sns.barplot(data=seasonal_rental_data, x='season', y='cnt', palette='viridis')\n",
        "\n",
        "# Menambahkan anotasi untuk peak and off-peak seasons\n",
        "plt.annotate(f\"Peak season: {peak_season['cnt']}\", xy=(peak_season['season'], peak_season['cnt']), xytext=(0, 10), textcoords='offset points', ha='center', arrowprops=dict(arrowstyle=\"->\"))\n",
        "plt.annotate(f\"Off-peak season: {off_peak_season['cnt']}\", xy=(off_peak_season['season'], off_peak_season['cnt']), xytext=(0, -10), textcoords='offset points', ha='center', arrowprops=dict(arrowstyle=\"->\"))\n",
        "\n",
        "plt.title('Bike Rental Patterns by Season')\n",
        "plt.xlabel('Time of Year')\n",
        "plt.ylabel('Rental Volume')\n",
        "plt.xticks(rotation=45)\n",
        "plt.show()"
      ]
    },
    {
      "cell_type": "markdown",
      "metadata": {
        "id": "D09x43vctNFy"
      },
      "source": [
        "**Insight:**\n",
        "\n",
        "Disini saya menampilkan grafik untuk menunjukan perbedaan jumlah penyewa sepeda berdasarkan musim, dan ditarik kesimpulan bahwa summer merupakan musim yang memiliki jumlah penyewa terbanyak, sedangkan winter memiliki jumlah penyewa paling sedikit."
      ]
    },
    {
      "cell_type": "markdown",
      "metadata": {
        "id": "DgHI7CiU8DC2"
      },
      "source": [
        "### Is there a difference in the number of bicycle renters each month?"
      ]
    },
    {
      "cell_type": "code",
      "execution_count": null,
      "metadata": {
        "colab": {
          "base_uri": "https://localhost:8080/",
          "height": 1000
        },
        "id": "Go0lCsvO8DC2",
        "outputId": "3a839c48-2c83-4a77-b041-cc6e91563b80"
      },
      "outputs": [],
      "source": [
        "\n",
        "# Menghitung jumlah penyewa sepeda pada setiap bulan dalam setahun\n",
        "month_counts = df.groupby('mnth')['cnt'].sum().reset_index()\n",
        "\n",
        "# Mengganti nilai 1-12 dengan label bulan yang lebih jelas\n",
        "month_labels = {1: 'January', 2: 'February', 3: 'March', 4: 'April', 5: 'May', 6: 'June', 7: 'July', 8: 'August', 9: 'September', 10: 'October', 11: 'November', 12: 'December'}\n",
        "month_counts['mnth'] = month_counts['mnth'].map(month_labels)\n",
        "\n",
        "# Membuat plot untuk menampilkan hasil\n",
        "plt.figure(figsize=(12, 6))\n",
        "sns.barplot(data=month_counts, x='mnth', y='cnt', palette='Blues')\n",
        "plt.title('Number of Bicycle Renters in Each Month of the Year')\n",
        "plt.xlabel('Month')\n",
        "plt.ylabel('Number of Renters')\n",
        "plt.xticks(rotation=45)  # Menambahkan rotasi label untuk memudahkan pembacaan\n",
        "plt.tight_layout()  # Menambahkan plt.tight_layout() untuk membuat grafik menjadi lebih presisi\n",
        "plt.show()"
      ]
    },
    {
      "cell_type": "markdown",
      "metadata": {
        "id": "_0-36BDLklRg"
      },
      "source": [
        "**Insight:**\n",
        "\n",
        "Disini saya menampilkan grafik dari penyewa sepeda berdasarkan bulan dalam se tahun."
      ]
    },
    {
      "cell_type": "markdown",
      "metadata": {
        "id": "9y4VUsmcYNZ5"
      },
      "source": [
        "## Analisis Lanjutan (Opsional)"
      ]
    },
    {
      "cell_type": "code",
      "execution_count": null,
      "metadata": {
        "colab": {
          "base_uri": "https://localhost:8080/"
        },
        "id": "iWhnzsJGYUCO",
        "outputId": "557a4c81-42b9-480f-8bbf-0c65f143d2cb"
      },
      "outputs": [],
      "source": [
        "# Menghitung Recency\n",
        "df['dteday'] = pd.to_datetime(df['dteday'])\n",
        "last_date = df['dteday'].max()\n",
        "df['Recency'] = (last_date - df['dteday']).dt.days\n",
        "\n",
        "# Menghitung Frequency dan Monetary\n",
        "frequency = df.groupby('registered')['cnt'].count().reset_index(name='Frequency')\n",
        "monetary = df.groupby('registered')['cnt'].sum().reset_index(name='Monetary')\n",
        "\n",
        "# Menggabungkan data Frequency dan Monetary\n",
        "rfm = pd.merge(frequency, monetary, on='registered')\n",
        "\n",
        "# Menghitung Recency untuk setiap pelanggan yang terdaftar\n",
        "rfm['Recency'] = df.groupby('registered')['Recency'].mean().reset_index(drop=True)\n",
        "\n",
        "print('RFM Analysis:')\n",
        "print(rfm)"
      ]
    },
    {
      "cell_type": "markdown",
      "metadata": {
        "id": "_WeHlCeX8DC2"
      },
      "source": [
        "## Conclusion"
      ]
    },
    {
      "cell_type": "markdown",
      "metadata": {
        "id": "ZTcyR48Y8DC2"
      },
      "source": [
        "Dari grafik 1 kita bisa melihat bahwa musim panas (summer) memiliki jumlah penyewa tertinggi dibandingkan dengan 3 musim yang lainnya, sedangkan musim dingin (winter) memiliki jumlah penyewa paling sedikit diantara musim yang lain.Hal ini membuktikan bahwa musim mempengaruhi jumlah penyewa sepeda.\n",
        "\n",
        "Lalu grafik kedua menunjukkan bahwa terdapat perbedaan jumlah penyewa sepeda di tiap bulan, dan jumlah penyewa sepeda tertinggi terjadi pada bulan Agustus."
      ]
    }
  ],
  "metadata": {
    "colab": {
      "collapsed_sections": [
        "MW7WF2kr8DC1"
      ],
      "provenance": []
    },
    "kernelspec": {
      "display_name": "Python 3",
      "language": "python",
      "name": "python3"
    },
    "language_info": {
      "codemirror_mode": {
        "name": "ipython",
        "version": 3
      },
      "file_extension": ".py",
      "mimetype": "text/x-python",
      "name": "python",
      "nbconvert_exporter": "python",
      "pygments_lexer": "ipython3",
      "version": "3.12.6"
    },
    "orig_nbformat": 4,
    "vscode": {
      "interpreter": {
        "hash": "972b3bf27e332e87b5379f2791f6ef9dfc79c71018c370b0d7423235e20fe4d7"
      }
    }
  },
  "nbformat": 4,
  "nbformat_minor": 0
}
